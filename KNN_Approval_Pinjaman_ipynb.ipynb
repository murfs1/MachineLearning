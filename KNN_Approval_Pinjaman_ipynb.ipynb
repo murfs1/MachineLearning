{
  "nbformat": 4,
  "nbformat_minor": 0,
  "metadata": {
    "colab": {
      "provenance": [],
      "authorship_tag": "ABX9TyN/DKYyCAB0ZOER5iA/rctY",
      "include_colab_link": true
    },
    "kernelspec": {
      "name": "python3",
      "display_name": "Python 3"
    },
    "language_info": {
      "name": "python"
    }
  },
  "cells": [
    {
      "cell_type": "markdown",
      "metadata": {
        "id": "view-in-github",
        "colab_type": "text"
      },
      "source": [
        "<a href=\"https://colab.research.google.com/github/Aldistwn29/machineLearning/blob/main/KNN_Approval_Pinjaman_ipynb.ipynb\" target=\"_parent\"><img src=\"https://colab.research.google.com/assets/colab-badge.svg\" alt=\"Open In Colab\"/></a>"
      ]
    },
    {
      "cell_type": "code",
      "execution_count": 51,
      "metadata": {
        "colab": {
          "base_uri": "https://localhost:8080/"
        },
        "id": "1dRcYjOXf76j",
        "outputId": "1bccbb41-d417-4e9e-8ae3-28a7221fbfb6"
      },
      "outputs": [
        {
          "output_type": "stream",
          "name": "stdout",
          "text": [
            "Akurasi 0.0\n",
            "Menampilkan Hasil Prediksi\n",
            "Data test 1: Prediction Terima\n"
          ]
        }
      ],
      "source": [
        "from sklearn.neighbors import KNeighborsClassifier\n",
        "# data\n",
        "X_train = [[40,5,60], [50,8,40], [50,7,30], [70,4,60], [80,4,80], [60,6,60]]\n",
        "y_train = ['Tolak','Terima','Tolak','Terima','Terima','Terima']\n",
        "\n",
        "# Inisialisasi model knn dengan jumlah tentangg/k = 3\n",
        "knn = KNeighborsClassifier(n_neighbors=5)\n",
        "\n",
        "# Melatih Model Dengan Data Traning\n",
        "knn.fit(X_train, y_train)\n",
        "\n",
        "# Data Test\n",
        "X_test = [[50,3,40]]\n",
        "y_test = ['Tolak'] # lebel yg seharusnya di dapatkan dalam model prediksi\n",
        "\n",
        "# Melakukan Prediksi dengan model yg sudah di latih\n",
        "pred = knn.predict(X_test)\n",
        "\n",
        "# melakukan Evaluasi Model\n",
        "accuracy = knn.score(X_test, y_test)\n",
        "print(\"Akurasi\", accuracy)\n",
        "\n",
        "print(\"Menampilkan Hasil Prediksi\")\n",
        "for i, pred in enumerate(pred):\n",
        "  print(f\"Data test {i+1}: Prediction {pred}\")"
      ]
    }
  ]
}